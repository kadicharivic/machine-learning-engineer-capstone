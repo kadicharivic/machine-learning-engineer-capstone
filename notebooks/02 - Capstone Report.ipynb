{
 "cells": [
  {
   "cell_type": "markdown",
   "metadata": {},
   "source": [
    "# Udacity - Machine Learning Engineer Nanodegree Program\n",
    "\n",
    "---"
   ]
  },
  {
   "cell_type": "markdown",
   "metadata": {},
   "source": [
    "## Capstone Project\n",
    "Matheus Sena Vasconcelos  \n",
    "Fevereiro 28st, 2020\n",
    "\n",
    "\n",
    "---"
   ]
  },
  {
   "cell_type": "markdown",
   "metadata": {},
   "source": [
    "## I. Definition"
   ]
  },
  {
   "cell_type": "markdown",
   "metadata": {},
   "source": [
    "### I.I. Project Overview\n",
    "\n",
    "<p style='text-align: justify; text-indent: 40px;'>\n",
    "    RMS Titanic was designed to be the more luxurious and safest ship built in 20th century. On the night of April 20, the Titanic hit an iceberg and sink in the middle on its journey. Unfortunately, due to the low number of rescue boats, more than a half of the passengers have died. The survive number was only 722 of 2224 in total.\n",
    "</p>\n",
    "\n",
    "<p style='text-align: justify; text-indent: 40px;'>\n",
    "    The project proposal is to build a predictor model that recieves, as input, passenger information (like name, age, gender, socio-economic and class), makes the text preprocessor, guesses if this fictitious passenger would survive or not in Titanic tragedy and return it as a HTTP response. As an experiment, supervised and unsupervised machine learning algorithms will be used to build and improve the model. To go further and receive theses passenger information, an endpoint will be develop using Python Frameworks in order to demonstrate another away to create endpoints, instead of those shown during the Nanodegree Program using AWS.\n",
    "</p>\n",
    "\n",
    "<p style='text-align: justify; text-indent: 40px;'>\n",
    "    The main idea of this project is to put into practice all the machine learning and software engineer knowledge learned during the Machine Learning Engineer Nanodegree Program and join it into my developed skills as a Software Developer.\n",
    "</p>"
   ]
  },
  {
   "cell_type": "markdown",
   "metadata": {},
   "source": [
    "### I.II. Problem Statement\n",
    "\n",
    "<p style='text-align: justify; text-indent: 40px;'>\n",
    "    The problem is Kaggle challenge and can be access <a href=\"https://www.kaggle.com/c/titanic\">here</a>. Based on the passenger data, the challenge is to build a predictive model that answers the question: \n",
    "</p>\n",
    "\n",
    ">  “what sorts of people were more likely to survive?”\n",
    "\n",
    "<p style='text-align: justify; text-indent: 40px;'>\n",
    "    In others words. The idea is to use the provided dataset, which contains all informations about the passenger aboard Titanic in 1912, and build a machine learning model that predicts if the passenger would survive, based on new data received.\n",
    "</p>\n",
    "\n",
    "<p style='text-align: justify; text-indent: 40px;'>\n",
    "    To build a great predictor model, supervised machine learning classification algorithms will be used, like K-Nearest Neighbors (KNN), Naive Bayes, Random Forest and Support Vector Machines (SVM). Due to the labeled dataset provided, which indicates if the passenger survived or not.\n",
    "</p>"
   ]
  },
  {
   "cell_type": "markdown",
   "metadata": {},
   "source": [
    "### I.III. Metrics\n",
    "\n",
    "<p style='text-align: justify; text-indent: 40px;'>\n",
    "    For the model evaluation, the follow metrics are used to measure how good the model is.\n",
    "</p>\n",
    "\n",
    "* __Accuracy Score__: value that indicates how many predicts the model guessed that the passenger would survived and guessed right, comparing to the total data sent. In other words, is the total number of True Positive and True Negatives divided by the total number of samples.\n",
    "\n",
    "<p style='text-align: center;'>\n",
    "    <img src=\"../images/accuracy-formula.png\" alt=\"Accuracy Formula\" width=\"50%\">\n",
    "</p>\n",
    "\n",
    "* __Confusion Matrix__: matrix that indicates how many True Negatives, False Positives, False Negatives and True Positives. Our goal is to increase the number of True Negatives and True Positives, which show that the model more guessing right than wrong.\n",
    "\n",
    "<p style='text-align: center;'>\n",
    "    <img src=\"../images/confusion-matrix-template.jpg\" alt=\"Confusion Matrix Template\" width=\"40%\">\n",
    "</p>"
   ]
  },
  {
   "cell_type": "markdown",
   "metadata": {},
   "source": [
    "## II. Analysis"
   ]
  },
  {
   "cell_type": "markdown",
   "metadata": {},
   "source": [
    "### II.IV Data Explation\n",
    "\n",
    "#### II.IV.I Dataset\n",
    "\n",
    "<p style='text-align: justify; text-indent: 40px;'>\n",
    "    The dataset brings informations about passenger onboard on RMS Titanic that have survived or not on the night of tragedy. Each row contains unique passengers with different information about them, from name and parents onboard to the amount paid on the ticket.\n",
    "</p>\n",
    "\n",
    "<p style='text-align: center;'>\n",
    "    <img src=\"../images/dataset-head.png\" alt=\"Dataset Head\">\n",
    "</p>\n",
    "\n",
    "<p style='text-align: justify; text-indent: 40px;'>\n",
    "    Over the 890 rows in the dataset, 866 cells have missing values and the most of those values are in the Cabin column. Due to the quantity of null values in that column, it can't be used as features to the model. In other hand, features like Age, which also have null values, but they can be filled out with mean or median. The follow heatmap plot shows that in more details.\n",
    "</p>\n",
    "\n",
    "<p style='text-align: center;'>\n",
    "    <img src=\"../images/plot-missing-values.png\" alt=\"plot missing values\" width=\"50%\">\n",
    "</p>\n",
    "\n",
    "<p style='text-align: justify; text-indent: 40px;'>\n",
    "    Whites lines indicates how many values are missing in each column. It's clear that Cabin column has almost all of its values as empty. While Age column has less than half and Embarked column only one or two data.\n",
    "</p>\n",
    "\n",
    "#### II.IV.II Data Statistics\n",
    "\n",
    "<p style='text-align: justify; text-indent: 40px;'>\n",
    "    With Pandas, a Python Library, we can easy extract statistics information in numerical columns in a dataset.\n",
    "</p>\n",
    "\n",
    "<p style='text-align: center;'>\n",
    "    <img src=\"../images/dataset-describe.png\" alt=\"Dataset Describe\" width=\"70%\">\n",
    "</p>\n",
    "\n",
    "<p style='text-align: justify; text-indent: 40px;'>\n",
    "    We can see useful information in the table above. Stand out\n",
    "</p>"
   ]
  },
  {
   "cell_type": "code",
   "execution_count": null,
   "metadata": {},
   "outputs": [],
   "source": []
  }
 ],
 "metadata": {
  "kernelspec": {
   "display_name": "Python 3",
   "language": "python",
   "name": "python3"
  },
  "language_info": {
   "codemirror_mode": {
    "name": "ipython",
    "version": 3
   },
   "file_extension": ".py",
   "mimetype": "text/x-python",
   "name": "python",
   "nbconvert_exporter": "python",
   "pygments_lexer": "ipython3",
   "version": "3.7.4"
  }
 },
 "nbformat": 4,
 "nbformat_minor": 2
}
