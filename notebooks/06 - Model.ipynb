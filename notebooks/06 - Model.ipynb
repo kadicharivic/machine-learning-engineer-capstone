{
 "cells": [
  {
   "cell_type": "code",
   "execution_count": 57,
   "metadata": {},
   "outputs": [],
   "source": [
    "import pandas as pd\n",
    "from sklearn.pipeline import Pipeline\n",
    "from sklearn.preprocessing import MinMaxScaler\n",
    "from sklearn.svm import SVC\n",
    "from sklearn.neighbors import KNeighborsClassifier\n",
    "from sklearn.naive_bayes import MultinomialNB\n",
    "from sklearn.tree import DecisionTreeClassifier\n",
    "from sklearn.ensemble import RandomForestClassifier\n",
    "from sklearn.linear_model import LogisticRegression\n",
    "from sklearn.model_selection import train_test_split, GridSearchCV\n",
    "from sklearn.metrics import accuracy_score, confusion_matrix, classification_report"
   ]
  },
  {
   "cell_type": "code",
   "execution_count": 48,
   "metadata": {},
   "outputs": [
    {
     "data": {
      "text/html": [
       "<div>\n",
       "<style scoped>\n",
       "    .dataframe tbody tr th:only-of-type {\n",
       "        vertical-align: middle;\n",
       "    }\n",
       "\n",
       "    .dataframe tbody tr th {\n",
       "        vertical-align: top;\n",
       "    }\n",
       "\n",
       "    .dataframe thead th {\n",
       "        text-align: right;\n",
       "    }\n",
       "</style>\n",
       "<table border=\"1\" class=\"dataframe\">\n",
       "  <thead>\n",
       "    <tr style=\"text-align: right;\">\n",
       "      <th></th>\n",
       "      <th>Survived</th>\n",
       "      <th>Pclass</th>\n",
       "      <th>Sex</th>\n",
       "      <th>Age</th>\n",
       "      <th>Fare</th>\n",
       "      <th>Embarked</th>\n",
       "      <th>Relatives</th>\n",
       "      <th>Alone</th>\n",
       "    </tr>\n",
       "  </thead>\n",
       "  <tbody>\n",
       "    <tr>\n",
       "      <th>0</th>\n",
       "      <td>0</td>\n",
       "      <td>3</td>\n",
       "      <td>1</td>\n",
       "      <td>22</td>\n",
       "      <td>7.2500</td>\n",
       "      <td>0</td>\n",
       "      <td>1</td>\n",
       "      <td>0</td>\n",
       "    </tr>\n",
       "    <tr>\n",
       "      <th>1</th>\n",
       "      <td>1</td>\n",
       "      <td>1</td>\n",
       "      <td>0</td>\n",
       "      <td>38</td>\n",
       "      <td>71.2833</td>\n",
       "      <td>1</td>\n",
       "      <td>1</td>\n",
       "      <td>0</td>\n",
       "    </tr>\n",
       "    <tr>\n",
       "      <th>2</th>\n",
       "      <td>1</td>\n",
       "      <td>3</td>\n",
       "      <td>0</td>\n",
       "      <td>26</td>\n",
       "      <td>7.9250</td>\n",
       "      <td>0</td>\n",
       "      <td>0</td>\n",
       "      <td>1</td>\n",
       "    </tr>\n",
       "    <tr>\n",
       "      <th>3</th>\n",
       "      <td>1</td>\n",
       "      <td>1</td>\n",
       "      <td>0</td>\n",
       "      <td>35</td>\n",
       "      <td>53.1000</td>\n",
       "      <td>0</td>\n",
       "      <td>1</td>\n",
       "      <td>0</td>\n",
       "    </tr>\n",
       "    <tr>\n",
       "      <th>4</th>\n",
       "      <td>0</td>\n",
       "      <td>3</td>\n",
       "      <td>1</td>\n",
       "      <td>35</td>\n",
       "      <td>8.0500</td>\n",
       "      <td>0</td>\n",
       "      <td>0</td>\n",
       "      <td>1</td>\n",
       "    </tr>\n",
       "  </tbody>\n",
       "</table>\n",
       "</div>"
      ],
      "text/plain": [
       "   Survived  Pclass  Sex  Age     Fare  Embarked  Relatives  Alone\n",
       "0         0       3    1   22   7.2500         0          1      0\n",
       "1         1       1    0   38  71.2833         1          1      0\n",
       "2         1       3    0   26   7.9250         0          0      1\n",
       "3         1       1    0   35  53.1000         0          1      0\n",
       "4         0       3    1   35   8.0500         0          0      1"
      ]
     },
     "execution_count": 48,
     "metadata": {},
     "output_type": "execute_result"
    }
   ],
   "source": [
    "dataset = pd.read_csv('../dataset/train_preprocessing.csv')\n",
    "dataset.head()"
   ]
  },
  {
   "cell_type": "code",
   "execution_count": 49,
   "metadata": {},
   "outputs": [],
   "source": [
    "X = dataset.drop('Survived', axis=1)\n",
    "Y = dataset.Survived"
   ]
  },
  {
   "cell_type": "code",
   "execution_count": 50,
   "metadata": {},
   "outputs": [],
   "source": [
    "x_train, x_test, y_train, y_test = train_test_split(X, Y, test_size=0.25, random_state=101)"
   ]
  },
  {
   "cell_type": "code",
   "execution_count": 51,
   "metadata": {},
   "outputs": [
    {
     "name": "stdout",
     "output_type": "stream",
     "text": [
      "0.9864864864864865\n",
      "0.8295964125560538\n",
      "[[119  21]\n",
      " [ 17  66]]\n",
      "              precision    recall  f1-score   support\n",
      "\n",
      "           0       0.88      0.85      0.86       140\n",
      "           1       0.76      0.80      0.78        83\n",
      "\n",
      "    accuracy                           0.83       223\n",
      "   macro avg       0.82      0.82      0.82       223\n",
      "weighted avg       0.83      0.83      0.83       223\n",
      "\n"
     ]
    }
   ],
   "source": [
    "steps = [('scaller', MinMaxScaler()),\n",
    "         ('clf', RandomForestClassifier())]\n",
    "\n",
    "predictor = Pipeline(steps)\n",
    "predictor.fit(x_train, y_train)\n",
    "\n",
    "print(predictor.score(x_train, y_train))\n",
    "print(accuracy_score(predictor.predict(x_test), y_test))\n",
    "print(confusion_matrix(predictor.predict(x_test), y_test))\n",
    "print(classification_report(predictor.predict(x_test), y_test))"
   ]
  },
  {
   "cell_type": "code",
   "execution_count": 52,
   "metadata": {},
   "outputs": [
    {
     "name": "stdout",
     "output_type": "stream",
     "text": [
      "0.8018018018018018\n",
      "0.820627802690583\n",
      "[[125  29]\n",
      " [ 11  58]]\n",
      "              precision    recall  f1-score   support\n",
      "\n",
      "           0       0.92      0.81      0.86       154\n",
      "           1       0.67      0.84      0.74        69\n",
      "\n",
      "    accuracy                           0.82       223\n",
      "   macro avg       0.79      0.83      0.80       223\n",
      "weighted avg       0.84      0.82      0.83       223\n",
      "\n"
     ]
    }
   ],
   "source": [
    "steps = [('scaller', MinMaxScaler()),\n",
    "         ('clf', LogisticRegression())]\n",
    "\n",
    "predictor = Pipeline(steps)\n",
    "predictor.fit(x_train, y_train)\n",
    "\n",
    "print(predictor.score(x_train, y_train))\n",
    "print(accuracy_score(predictor.predict(x_test), y_test))\n",
    "print(confusion_matrix(predictor.predict(x_test), y_test))\n",
    "print(classification_report(predictor.predict(x_test), y_test))"
   ]
  },
  {
   "cell_type": "code",
   "execution_count": 64,
   "metadata": {
    "scrolled": true
   },
   "outputs": [
    {
     "name": "stdout",
     "output_type": "stream",
     "text": [
      "0.8123123123123123\n",
      "0.7982062780269058\n",
      "     0   1\n",
      "0  128  37\n",
      "1    8  50\n",
      "              precision    recall  f1-score   support\n",
      "\n",
      "           0       0.94      0.78      0.85       165\n",
      "           1       0.57      0.86      0.69        58\n",
      "\n",
      "    accuracy                           0.80       223\n",
      "   macro avg       0.76      0.82      0.77       223\n",
      "weighted avg       0.85      0.80      0.81       223\n",
      "\n"
     ]
    },
    {
     "data": {
      "text/html": [
       "<div>\n",
       "<style scoped>\n",
       "    .dataframe tbody tr th:only-of-type {\n",
       "        vertical-align: middle;\n",
       "    }\n",
       "\n",
       "    .dataframe tbody tr th {\n",
       "        vertical-align: top;\n",
       "    }\n",
       "\n",
       "    .dataframe thead th {\n",
       "        text-align: right;\n",
       "    }\n",
       "</style>\n",
       "<table border=\"1\" class=\"dataframe\">\n",
       "  <thead>\n",
       "    <tr style=\"text-align: right;\">\n",
       "      <th></th>\n",
       "      <th>Predict 0</th>\n",
       "      <th>Predict 1</th>\n",
       "    </tr>\n",
       "  </thead>\n",
       "  <tbody>\n",
       "    <tr>\n",
       "      <th>Actual 0</th>\n",
       "      <td>128</td>\n",
       "      <td>37</td>\n",
       "    </tr>\n",
       "    <tr>\n",
       "      <th>Actual 1</th>\n",
       "      <td>8</td>\n",
       "      <td>50</td>\n",
       "    </tr>\n",
       "  </tbody>\n",
       "</table>\n",
       "</div>"
      ],
      "text/plain": [
       "          Predict 0  Predict 1\n",
       "Actual 0        128         37\n",
       "Actual 1          8         50"
      ]
     },
     "execution_count": 64,
     "metadata": {},
     "output_type": "execute_result"
    }
   ],
   "source": [
    "steps = [('scaller', MinMaxScaler()),\n",
    "         ('clf', SVC())]\n",
    "\n",
    "predictor = Pipeline(steps)\n",
    "predictor.fit(x_train, y_train)\n",
    "\n",
    "print(predictor.score(x_train, y_train))\n",
    "print(accuracy_score(predictor.predict(x_test), y_test))\n",
    "print(pd.DataFrame(confusion_matrix(predictor.predict(x_test), y_test)))\n",
    "print(classification_report(predictor.predict(x_test), y_test))\n",
    "\n",
    "pd.DataFrame(confusion_matrix(predictor.predict(x_test), y_test), columns=['Predict 0', 'Predict 1'], index=['Actual 0', 'Actual 1'])"
   ]
  },
  {
   "cell_type": "code",
   "execution_count": 60,
   "metadata": {},
   "outputs": [
    {
     "data": {
      "text/html": [
       "<div>\n",
       "<style scoped>\n",
       "    .dataframe tbody tr th:only-of-type {\n",
       "        vertical-align: middle;\n",
       "    }\n",
       "\n",
       "    .dataframe tbody tr th {\n",
       "        vertical-align: top;\n",
       "    }\n",
       "\n",
       "    .dataframe thead th {\n",
       "        text-align: right;\n",
       "    }\n",
       "</style>\n",
       "<table border=\"1\" class=\"dataframe\">\n",
       "  <thead>\n",
       "    <tr style=\"text-align: right;\">\n",
       "      <th></th>\n",
       "      <th>0</th>\n",
       "      <th>1</th>\n",
       "    </tr>\n",
       "  </thead>\n",
       "  <tbody>\n",
       "    <tr>\n",
       "      <th>0</th>\n",
       "      <td>128</td>\n",
       "      <td>37</td>\n",
       "    </tr>\n",
       "    <tr>\n",
       "      <th>1</th>\n",
       "      <td>8</td>\n",
       "      <td>50</td>\n",
       "    </tr>\n",
       "  </tbody>\n",
       "</table>\n",
       "</div>"
      ],
      "text/plain": [
       "     0   1\n",
       "0  128  37\n",
       "1    8  50"
      ]
     },
     "execution_count": 60,
     "metadata": {},
     "output_type": "execute_result"
    }
   ],
   "source": [
    "pd.DataFrame(confusion_matrix(predictor.predict(x_test), y_test), column=[''])"
   ]
  },
  {
   "cell_type": "code",
   "execution_count": 54,
   "metadata": {},
   "outputs": [
    {
     "name": "stdout",
     "output_type": "stream",
     "text": [
      "0.7027027027027027\n",
      "0.6995515695067265\n",
      "[[131  62]\n",
      " [  5  25]]\n",
      "              precision    recall  f1-score   support\n",
      "\n",
      "           0       0.96      0.68      0.80       193\n",
      "           1       0.29      0.83      0.43        30\n",
      "\n",
      "    accuracy                           0.70       223\n",
      "   macro avg       0.63      0.76      0.61       223\n",
      "weighted avg       0.87      0.70      0.75       223\n",
      "\n"
     ]
    }
   ],
   "source": [
    "steps = [('scaller', MinMaxScaler()),\n",
    "         ('clf', MultinomialNB())]\n",
    "\n",
    "predictor = Pipeline(steps)\n",
    "predictor.fit(x_train, y_train)\n",
    "\n",
    "print(predictor.score(x_train, y_train))\n",
    "print(accuracy_score(predictor.predict(x_test), y_test))\n",
    "print(confusion_matrix(predictor.predict(x_test), y_test))\n",
    "print(classification_report(predictor.predict(x_test), y_test))"
   ]
  },
  {
   "cell_type": "code",
   "execution_count": 56,
   "metadata": {},
   "outputs": [
    {
     "name": "stdout",
     "output_type": "stream",
     "text": [
      "0.8498498498498499\n",
      "0.8071748878923767\n",
      "[[119  26]\n",
      " [ 17  61]]\n",
      "              precision    recall  f1-score   support\n",
      "\n",
      "           0       0.88      0.82      0.85       145\n",
      "           1       0.70      0.78      0.74        78\n",
      "\n",
      "    accuracy                           0.81       223\n",
      "   macro avg       0.79      0.80      0.79       223\n",
      "weighted avg       0.81      0.81      0.81       223\n",
      "\n"
     ]
    }
   ],
   "source": [
    "steps = [('scaller', MinMaxScaler()),\n",
    "         ('clf', KNeighborsClassifier())]\n",
    "\n",
    "predictor = Pipeline(steps)\n",
    "predictor.fit(x_train, y_train)\n",
    "\n",
    "print(predictor.score(x_train, y_train))\n",
    "print(accuracy_score(predictor.predict(x_test), y_test))\n",
    "print(confusion_matrix(predictor.predict(x_test), y_test))\n",
    "print(classification_report(predictor.predict(x_test), y_test))"
   ]
  },
  {
   "cell_type": "code",
   "execution_count": 58,
   "metadata": {},
   "outputs": [
    {
     "name": "stdout",
     "output_type": "stream",
     "text": [
      "0.9864864864864865\n",
      "0.726457399103139\n",
      "[[103  28]\n",
      " [ 33  59]]\n",
      "              precision    recall  f1-score   support\n",
      "\n",
      "           0       0.76      0.79      0.77       131\n",
      "           1       0.68      0.64      0.66        92\n",
      "\n",
      "    accuracy                           0.73       223\n",
      "   macro avg       0.72      0.71      0.72       223\n",
      "weighted avg       0.72      0.73      0.73       223\n",
      "\n"
     ]
    }
   ],
   "source": [
    "steps = [('scaller', MinMaxScaler()),\n",
    "         ('clf', DecisionTreeClassifier())]\n",
    "\n",
    "predictor = Pipeline(steps)\n",
    "predictor.fit(x_train, y_train)\n",
    "\n",
    "print(predictor.score(x_train, y_train))\n",
    "print(accuracy_score(predictor.predict(x_test), y_test))\n",
    "print(confusion_matrix(predictor.predict(x_test), y_test))\n",
    "print(classification_report(predictor.predict(x_test), y_test))"
   ]
  },
  {
   "cell_type": "code",
   "execution_count": 66,
   "metadata": {},
   "outputs": [
    {
     "data": {
      "text/html": [
       "<div>\n",
       "<style scoped>\n",
       "    .dataframe tbody tr th:only-of-type {\n",
       "        vertical-align: middle;\n",
       "    }\n",
       "\n",
       "    .dataframe tbody tr th {\n",
       "        vertical-align: top;\n",
       "    }\n",
       "\n",
       "    .dataframe thead th {\n",
       "        text-align: right;\n",
       "    }\n",
       "</style>\n",
       "<table border=\"1\" class=\"dataframe\">\n",
       "  <thead>\n",
       "    <tr style=\"text-align: right;\">\n",
       "      <th></th>\n",
       "      <th>Accuracy</th>\n",
       "    </tr>\n",
       "  </thead>\n",
       "  <tbody>\n",
       "    <tr>\n",
       "      <th>Naive Bayes</th>\n",
       "      <td>0.6995515695067265</td>\n",
       "    </tr>\n",
       "    <tr>\n",
       "      <th>SVM</th>\n",
       "      <td>0.7982062780269058</td>\n",
       "    </tr>\n",
       "    <tr>\n",
       "      <th>KNN</th>\n",
       "      <td>0.8071748878923767</td>\n",
       "    </tr>\n",
       "    <tr>\n",
       "      <th>Random Forest</th>\n",
       "      <td>0.8295964125560538</td>\n",
       "    </tr>\n",
       "  </tbody>\n",
       "</table>\n",
       "</div>"
      ],
      "text/plain": [
       "                         Accuracy\n",
       "Naive Bayes    0.6995515695067265\n",
       "SVM            0.7982062780269058\n",
       "KNN            0.8071748878923767\n",
       "Random Forest  0.8295964125560538"
      ]
     },
     "execution_count": 66,
     "metadata": {},
     "output_type": "execute_result"
    }
   ],
   "source": [
    "data = ['0.7982062780269058', '0.6995515695067265', '0.8071748878923767', '0.8295964125560538']\n",
    "index = ['SVM', 'Naive Bayes', 'KNN', 'Random Forest']\n",
    "column = ['Accuracy']\n",
    "pd.DataFrame(data, index, column).sort_values('Accuracy')"
   ]
  }
 ],
 "metadata": {
  "kernelspec": {
   "display_name": "Python 3",
   "language": "python",
   "name": "python3"
  },
  "language_info": {
   "codemirror_mode": {
    "name": "ipython",
    "version": 3
   },
   "file_extension": ".py",
   "mimetype": "text/x-python",
   "name": "python",
   "nbconvert_exporter": "python",
   "pygments_lexer": "ipython3",
   "version": "3.7.3"
  }
 },
 "nbformat": 4,
 "nbformat_minor": 2
}
